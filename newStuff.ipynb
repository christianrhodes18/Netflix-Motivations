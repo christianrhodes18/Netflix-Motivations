{
 "cells": [
  {
   "cell_type": "code",
   "execution_count": 6,
   "metadata": {},
   "outputs": [
    {
     "data": {
      "text/html": [
       "<div>\n",
       "<style scoped>\n",
       "    .dataframe tbody tr th:only-of-type {\n",
       "        vertical-align: middle;\n",
       "    }\n",
       "\n",
       "    .dataframe tbody tr th {\n",
       "        vertical-align: top;\n",
       "    }\n",
       "\n",
       "    .dataframe thead th {\n",
       "        text-align: right;\n",
       "    }\n",
       "</style>\n",
       "<table border=\"1\" class=\"dataframe\">\n",
       "  <thead>\n",
       "    <tr style=\"text-align: right;\">\n",
       "      <th></th>\n",
       "      <th>id</th>\n",
       "      <th>title</th>\n",
       "      <th>type</th>\n",
       "      <th>description</th>\n",
       "      <th>release_year</th>\n",
       "      <th>age_certification</th>\n",
       "      <th>runtime</th>\n",
       "      <th>genres</th>\n",
       "      <th>production_countries</th>\n",
       "      <th>seasons</th>\n",
       "      <th>imdb_id</th>\n",
       "      <th>imdb_score</th>\n",
       "      <th>imdb_votes</th>\n",
       "      <th>tmdb_popularity</th>\n",
       "      <th>tmdb_score</th>\n",
       "    </tr>\n",
       "  </thead>\n",
       "  <tbody>\n",
       "    <tr>\n",
       "      <th>5</th>\n",
       "      <td>ts22164</td>\n",
       "      <td>Monty Python's Flying Circus</td>\n",
       "      <td>SHOW</td>\n",
       "      <td>A British sketch comedy series with the shows ...</td>\n",
       "      <td>1969</td>\n",
       "      <td>TV-14</td>\n",
       "      <td>30</td>\n",
       "      <td>['comedy', 'european']</td>\n",
       "      <td>['GB']</td>\n",
       "      <td>4.0</td>\n",
       "      <td>tt0063929</td>\n",
       "      <td>8.8</td>\n",
       "      <td>73424.0</td>\n",
       "      <td>17.617</td>\n",
       "      <td>8.306</td>\n",
       "    </tr>\n",
       "    <tr>\n",
       "      <th>26</th>\n",
       "      <td>ts45948</td>\n",
       "      <td>Monty Python's Fliegender Zirkus</td>\n",
       "      <td>SHOW</td>\n",
       "      <td>Monty Python's Fliegender Zirkus consisted of ...</td>\n",
       "      <td>1972</td>\n",
       "      <td>TV-MA</td>\n",
       "      <td>43</td>\n",
       "      <td>['comedy']</td>\n",
       "      <td>[]</td>\n",
       "      <td>1.0</td>\n",
       "      <td>tt0202477</td>\n",
       "      <td>8.1</td>\n",
       "      <td>2151.0</td>\n",
       "      <td>1.487</td>\n",
       "      <td>7.000</td>\n",
       "    </tr>\n",
       "    <tr>\n",
       "      <th>35</th>\n",
       "      <td>ts20681</td>\n",
       "      <td>Seinfeld</td>\n",
       "      <td>SHOW</td>\n",
       "      <td>A stand-up comedian and his three offbeat frie...</td>\n",
       "      <td>1989</td>\n",
       "      <td>TV-PG</td>\n",
       "      <td>24</td>\n",
       "      <td>['comedy']</td>\n",
       "      <td>['US']</td>\n",
       "      <td>9.0</td>\n",
       "      <td>tt0098904</td>\n",
       "      <td>8.9</td>\n",
       "      <td>308824.0</td>\n",
       "      <td>130.213</td>\n",
       "      <td>8.301</td>\n",
       "    </tr>\n",
       "    <tr>\n",
       "      <th>44</th>\n",
       "      <td>ts22082</td>\n",
       "      <td>Knight Rider</td>\n",
       "      <td>SHOW</td>\n",
       "      <td>Michael Long, an undercover police officer, is...</td>\n",
       "      <td>1982</td>\n",
       "      <td>TV-PG</td>\n",
       "      <td>51</td>\n",
       "      <td>['scifi', 'action', 'crime', 'drama']</td>\n",
       "      <td>['US']</td>\n",
       "      <td>4.0</td>\n",
       "      <td>tt0083437</td>\n",
       "      <td>6.9</td>\n",
       "      <td>34115.0</td>\n",
       "      <td>50.267</td>\n",
       "      <td>7.500</td>\n",
       "    </tr>\n",
       "    <tr>\n",
       "      <th>45</th>\n",
       "      <td>ts21715</td>\n",
       "      <td>Thomas &amp; Friends</td>\n",
       "      <td>SHOW</td>\n",
       "      <td>Thomas &amp; Friends is a British children's telev...</td>\n",
       "      <td>1984</td>\n",
       "      <td>TV-Y</td>\n",
       "      <td>10</td>\n",
       "      <td>['animation', 'family', 'comedy', 'fantasy', '...</td>\n",
       "      <td>['GB']</td>\n",
       "      <td>24.0</td>\n",
       "      <td>tt0086815</td>\n",
       "      <td>6.5</td>\n",
       "      <td>5104.0</td>\n",
       "      <td>42.196</td>\n",
       "      <td>6.500</td>\n",
       "    </tr>\n",
       "  </tbody>\n",
       "</table>\n",
       "</div>"
      ],
      "text/plain": [
       "         id                             title  type  \\\n",
       "5   ts22164      Monty Python's Flying Circus  SHOW   \n",
       "26  ts45948  Monty Python's Fliegender Zirkus  SHOW   \n",
       "35  ts20681                          Seinfeld  SHOW   \n",
       "44  ts22082                      Knight Rider  SHOW   \n",
       "45  ts21715                  Thomas & Friends  SHOW   \n",
       "\n",
       "                                          description  release_year  \\\n",
       "5   A British sketch comedy series with the shows ...          1969   \n",
       "26  Monty Python's Fliegender Zirkus consisted of ...          1972   \n",
       "35  A stand-up comedian and his three offbeat frie...          1989   \n",
       "44  Michael Long, an undercover police officer, is...          1982   \n",
       "45  Thomas & Friends is a British children's telev...          1984   \n",
       "\n",
       "   age_certification  runtime  \\\n",
       "5              TV-14       30   \n",
       "26             TV-MA       43   \n",
       "35             TV-PG       24   \n",
       "44             TV-PG       51   \n",
       "45              TV-Y       10   \n",
       "\n",
       "                                               genres production_countries  \\\n",
       "5                              ['comedy', 'european']               ['GB']   \n",
       "26                                         ['comedy']                   []   \n",
       "35                                         ['comedy']               ['US']   \n",
       "44              ['scifi', 'action', 'crime', 'drama']               ['US']   \n",
       "45  ['animation', 'family', 'comedy', 'fantasy', '...               ['GB']   \n",
       "\n",
       "    seasons    imdb_id  imdb_score  imdb_votes  tmdb_popularity  tmdb_score  \n",
       "5       4.0  tt0063929         8.8     73424.0           17.617       8.306  \n",
       "26      1.0  tt0202477         8.1      2151.0            1.487       7.000  \n",
       "35      9.0  tt0098904         8.9    308824.0          130.213       8.301  \n",
       "44      4.0  tt0083437         6.9     34115.0           50.267       7.500  \n",
       "45     24.0  tt0086815         6.5      5104.0           42.196       6.500  "
      ]
     },
     "execution_count": 6,
     "metadata": {},
     "output_type": "execute_result"
    }
   ],
   "source": [
    "import pandas as pd\n",
    "import matplotlib.pyplot as plt\n",
    "import seaborn as sns\n",
    "from sklearn.preprocessing import OneHotEncoder, StandardScaler\n",
    "from sklearn.model_selection import train_test_split\n",
    "from sklearn.metrics import accuracy_score, confusion_matrix, ConfusionMatrixDisplay, mean_squared_error, r2_score\n",
    "from sklearn.linear_model import LinearRegression, Lasso, Ridge\n",
    "from sklearn.tree import DecisionTreeClassifier, plot_tree\n",
    "\n",
    "# Read in the data and store in a DataFrame\n",
    "df = pd.read_csv(\"data/titles.csv\")\n",
    "\n",
    "# Print the first 5 rows of the DataFrame\n",
    "df.dropna(inplace=True)\n",
    "df.head()"
   ]
  },
  {
   "cell_type": "code",
   "execution_count": 7,
   "metadata": {},
   "outputs": [
    {
     "data": {
      "text/plain": [
       "Index(['id', 'title', 'type', 'description', 'release_year',\n",
       "       'age_certification', 'runtime', 'genres', 'production_countries',\n",
       "       'seasons', 'imdb_id', 'imdb_score', 'imdb_votes', 'tmdb_popularity',\n",
       "       'tmdb_score', 'genreMain'],\n",
       "      dtype='object')"
      ]
     },
     "execution_count": 7,
     "metadata": {},
     "output_type": "execute_result"
    }
   ],
   "source": [
    "df['genreMain'] = df['genres'].apply(lambda x: x.split(',')[0])\n",
    "\n",
    "genre_mapping = {\n",
    "    \"['documentation']\": \"documentary\",\n",
    "    \"['drama']\": \"drama\",\n",
    "    \"['fantasy']\": \"fantasy\",\n",
    "    \"['war']\": \"war\",\n",
    "    \"['comedy']\": \"comedy\",\n",
    "    #\"['comedy']\": \"comedy\",\n",
    "    \"['thriller']\": \"thriller\",\n",
    "    \"['crime']\": \"crime\",\n",
    "    \"['romance']\": \"romance\",\n",
    "    \"['action']\": \"action\",\n",
    "    \"['western']\": \"western\",\n",
    "    \"['history']\": \"history\",\n",
    "    \"['drama']\": \"drama\",\n",
    "    \"['music']\": \"music\",\n",
    "    \"['romance']\": \"romance\",\n",
    "    \"['horror']\": \"horror\",\n",
    "    #\"['horror']\": \"horror\",\n",
    "    \"['scifi']\": \"sci-fi\",\n",
    "    \"['animation']\": \"animation\",\n",
    "    #\"['family']\": \"family\",\n",
    "    \"['family']\": \"family\",\n",
    "    #\"['reality']\": \"reality\",\n",
    "    \"['reality']\": \"reality\",\n",
    "    \"['documentation']\": \"documentary\",\n",
    "    '[]': \"unknown\",\n",
    "    \"['thriller']\": \"thriller\",\n",
    "    \"['western']\": \"western\",\n",
    "    \"['animation']\": \"animation\",\n",
    "    \"['war']\": \"war\",\n",
    "    \"['music']\": \"music\",\n",
    "    \"['fantasy']\": \"fantasy\",\n",
    "    \"['action']\": \"action\",\n",
    "    \"['crime']\": \"crime\",\n",
    "    \"['scifi']\": \"sci-fi\",\n",
    "    \"['sport']\": \"sport\"\n",
    "}\n",
    "\n",
    "df['genreMain'] = df['genreMain'].map(genre_mapping)\n",
    "df.columns"
   ]
  },
  {
   "cell_type": "code",
   "execution_count": 8,
   "metadata": {},
   "outputs": [
    {
     "name": "stderr",
     "output_type": "stream",
     "text": [
      "C:\\Users\\drewj\\AppData\\Local\\Temp\\ipykernel_9292\\2411395290.py:2: SettingWithCopyWarning: \n",
      "A value is trying to be set on a copy of a slice from a DataFrame\n",
      "\n",
      "See the caveats in the documentation: https://pandas.pydata.org/pandas-docs/stable/user_guide/indexing.html#returning-a-view-versus-a-copy\n",
      "  oneHotdf.dropna(inplace=True)\n"
     ]
    }
   ],
   "source": [
    "oneHotdf=df[['release_year', 'runtime','seasons','imdb_score','imdb_votes','tmdb_popularity','tmdb_score','genreMain']]\n",
    "oneHotdf.dropna(inplace=True)\n",
    "encoder = OneHotEncoder(handle_unknown='ignore')\n",
    "encoder_df = pd.DataFrame(encoder.fit_transform(oneHotdf[['genreMain']]).toarray())\n",
    "final_df = pd.concat([oneHotdf.reset_index(drop=True), encoder_df], axis=1)\n",
    "new_names = {2:'comedy',\n",
    "             6:'family',\n",
    "             7:'reality',\n",
    "             5:'drama',\n",
    "             4:'documentary',\n",
    "             1:'animation',\n",
    "             9:'unknown',\n",
    "             0:'action',\n",
    "             3:'crime',\n",
    "             8:'sci-fi'}\n",
    "final_df = final_df.rename(columns=new_names)"
   ]
  },
  {
   "cell_type": "code",
   "execution_count": 11,
   "metadata": {},
   "outputs": [],
   "source": [
    "cols_to_normalize = ['imdb_score', 'tmdb_score', 'imdb_votes']\n",
    "\n",
    "# Instantiate a StandardScaler object\n",
    "scaler = StandardScaler()\n",
    "\n",
    "# Fit the scaler to the data\n",
    "scaler.fit(final_df[cols_to_normalize])\n",
    "\n",
    "# Transform the columns\n",
    "final_df[cols_to_normalize] = scaler.transform(final_df[cols_to_normalize])"
   ]
  },
  {
   "cell_type": "markdown",
   "metadata": {},
   "source": [
    "## Lasso Regression"
   ]
  },
  {
   "cell_type": "code",
   "execution_count": 17,
   "metadata": {},
   "outputs": [
    {
     "name": "stdout",
     "output_type": "stream",
     "text": [
      "[ 1.50750270e-02 -1.64063616e-03  4.25663142e-01 -1.08175548e-01\n",
      "  5.73047197e+00  7.09402276e-01  6.12439933e-01 -2.64044689e+00\n",
      " -2.08170086e+00  6.55704756e+00  6.61496458e-01 -0.00000000e+00\n",
      " -0.00000000e+00 -0.00000000e+00  0.00000000e+00 -0.00000000e+00]\n",
      "-22.854274025070556\n",
      "0.25617430833578225\n",
      "Mean Squared Error: 95.11\n",
      "R-Squared: 0.26\n"
     ]
    }
   ],
   "source": [
    "X = final_df[['release_year', 'runtime', 'seasons', 'imdb_score', 'imdb_votes', 'tmdb_score', 'comedy', 'family',\n",
    "       'reality', 'drama', 'documentary', 'animation', 'unknown', 'action',\n",
    "       'crime', 'sci-fi']]\n",
    "y = final_df['tmdb_popularity']\n",
    "\n",
    "# split the data into training and testing sets\n",
    "X_train, X_test, y_train, y_test = train_test_split(X, y, test_size=0.2, random_state=42)\n",
    "\n",
    "# create and fit the Lasso model\n",
    "lasso = Lasso(alpha=0.1)\n",
    "lasso.fit(X_train, y_train)\n",
    "\n",
    "# print the coefficients\n",
    "print(lasso.coef_)\n",
    "print(lasso.intercept_)\n",
    "\n",
    "# make predictions on the test set and calculate the R-squared score\n",
    "y_pred = lasso.predict(X_test)\n",
    "print(lasso.score(X_test, y_test))\n",
    "mse = mean_squared_error(y_test, y_pred)\n",
    "print(\"Mean Squared Error: {:.2f}\".format(mse))\n",
    "\n",
    "# Calculate the R-squared\n",
    "r2 = r2_score(y_test, y_pred)\n",
    "print(\"R-Squared: {:.2f}\".format(r2))"
   ]
  },
  {
   "cell_type": "code",
   "execution_count": 13,
   "metadata": {},
   "outputs": [
    {
     "data": {
      "image/png": "[encoded data removed]",
      "text/plain": [
       "<Figure size 432x288 with 1 Axes>"
      ]
     },
     "metadata": {
      "needs_background": "light"
     },
     "output_type": "display_data"
    }
   ],
   "source": [
    "lasso = Lasso(alpha=0.1)\n",
    "lasso.fit(X_train, y_train)\n",
    "\n",
    "# Plot coefficients\n",
    "plt.plot(range(X.shape[1]), lasso.coef_)\n",
    "plt.xticks(range(X.shape[1]), X.columns, rotation=90)\n",
    "plt.ylabel('Coefficients')\n",
    "plt.savefig(\"LassoResid.jpg\")\n",
    "plt.show()"
   ]
  },
  {
   "cell_type": "code",
   "execution_count": 14,
   "metadata": {},
   "outputs": [
    {
     "data": {
      "image/png": "[encoded data removed]",
      "text/plain": [
       "<Figure size 432x288 with 1 Axes>"
      ]
     },
     "metadata": {
      "needs_background": "light"
     },
     "output_type": "display_data"
    }
   ],
   "source": [
    "plt.scatter(y_test, y_pred, alpha=0.5)\n",
    "plt.plot([0, 10], [0, 10], 'r-')\n",
    "plt.title(\"Predicted vs Actual Values for Lasso Regression Model\")\n",
    "plt.xlabel(\"Actual Values\")\n",
    "plt.ylabel(\"Predicted Values\")\n",
    "plt.show()"
   ]
  },
  {
   "cell_type": "markdown",
   "metadata": {},
   "source": [
    "## Ridge Regression"
   ]
  },
  {
   "cell_type": "code",
   "execution_count": 20,
   "metadata": {
    "scrolled": true
   },
   "outputs": [
    {
     "name": "stdout",
     "output_type": "stream",
     "text": [
      "Mean Squared Error: 93.31052427591003\n",
      "R-Squared: 0.27\n"
     ]
    },
    {
     "data": {
      "image/png": "[encoded data removed]",
      "text/plain": [
       "<Figure size 432x288 with 1 Axes>"
      ]
     },
     "metadata": {
      "needs_background": "light"
     },
     "output_type": "display_data"
    }
   ],
   "source": [
    "ridge = Ridge(alpha=0.5)\n",
    "ridge.fit(X_train, y_train)\n",
    "\n",
    "# Make predictions on the testing data\n",
    "y_pred = ridge.predict(X_test)\n",
    "\n",
    "# Calculate the mean squared error\n",
    "mse = mean_squared_error(y_test, y_pred)\n",
    "print('Mean Squared Error:', mse)\n",
    "\n",
    "r2 = r2_score(y_test, y_pred)\n",
    "print(\"R-Squared: {:.2f}\".format(r2))\n",
    "\n",
    "# Plot the coefficients\n",
    "import matplotlib.pyplot as plt\n",
    "plt.plot(range(X.shape[1]), ridge.coef_)\n",
    "plt.xticks(range(X.shape[1]), X.columns, rotation=90)\n",
    "plt.margins(0.02)\n",
    "plt.show()"
   ]
  },
  {
   "cell_type": "markdown",
   "metadata": {},
   "source": [
    "## Linear Regression"
   ]
  },
  {
   "cell_type": "code",
   "execution_count": 21,
   "metadata": {},
   "outputs": [
    {
     "name": "stdout",
     "output_type": "stream",
     "text": [
      "Root Mean Squared Error: 9.65\n",
      "R-squared: 0.27\n"
     ]
    }
   ],
   "source": [
    "lr_model = LinearRegression()\n",
    "lr_model.fit(X_train, y_train)\n",
    "\n",
    "# Use the model to make predictions on the test set\n",
    "y_pred = lr_model.predict(X_test)\n",
    "\n",
    "# Evaluate the model's performance using RMSE and R-squared\n",
    "rmse = mean_squared_error(y_test, y_pred, squared=False)\n",
    "r_squared = r2_score(y_test, y_pred)\n",
    "\n",
    "print(\"Root Mean Squared Error: {:.2f}\".format(rmse))\n",
    "print(\"R-squared: {:.2f}\".format(r_squared))"
   ]
  },
  {
   "cell_type": "code",
   "execution_count": 23,
   "metadata": {},
   "outputs": [
    {
     "data": {
      "image/png": "[encoded data removed]",
      "text/plain": [
       "<Figure size 432x288 with 1 Axes>"
      ]
     },
     "metadata": {
      "needs_background": "light"
     },
     "output_type": "display_data"
    }
   ],
   "source": [
    "residuals = y_test - y_pred\n",
    "\n",
    "plt.plot(range(X.shape[1]), lr_model.coef_)\n",
    "plt.xticks(range(X.shape[1]), X.columns, rotation=90)\n",
    "plt.margins(0.02)\n",
    "plt.show()"
   ]
  }
 ],
 "metadata": {
  "kernelspec": {
   "display_name": "Python 3 (ipykernel)",
   "language": "python",
   "name": "python3"
  },
  "language_info": {
   "codemirror_mode": {
    "name": "ipython",
    "version": 3
   },
   "file_extension": ".py",
   "mimetype": "text/x-python",
   "name": "python",
   "nbconvert_exporter": "python",
   "pygments_lexer": "ipython3",
   "version": "3.9.12"
  }
 },
 "nbformat": 4,
 "nbformat_minor": 2
}
